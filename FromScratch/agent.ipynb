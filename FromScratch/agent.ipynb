{
 "cells": [
  {
   "cell_type": "markdown",
   "metadata": {},
   "source": [
    "1. Thought\n",
    "- Choose Tool\n",
    "2. Action\n",
    "- Output\n",
    "3. Observation\n",
    "- Context\n",
    "\n",
    "Repeat"
   ]
  },
  {
   "cell_type": "code",
   "execution_count": 1,
   "metadata": {},
   "outputs": [
    {
     "data": {
      "text/plain": [
       "True"
      ]
     },
     "execution_count": 1,
     "metadata": {},
     "output_type": "execute_result"
    }
   ],
   "source": [
    "from dotenv import load_dotenv\n",
    "load_dotenv()"
   ]
  },
  {
   "cell_type": "code",
   "execution_count": null,
   "metadata": {},
   "outputs": [],
   "source": [
    "import os\n",
    "from groq import Groq\n",
    "\n",
    "client = Groq(\n",
    "    api_key=os.environ.get(\"GROQ_API_KEY\"),\n",
    ")"
   ]
  },
  {
   "cell_type": "code",
   "execution_count": 2,
   "metadata": {},
   "outputs": [],
   "source": [
    "class Agent:\n",
    "    def __init__(self, client, system):\n",
    "        self.client = client\n",
    "        self.system = system\n",
    "        self.messages = []\n",
    "        if self.system is not None:\n",
    "            self.messages.append( {'role': 'system', 'content': self.system} )\n",
    "\n",
    "    def __call__(self,message=\"\"):\n",
    "        if message:\n",
    "            self.messages.append( {'role': 'user', 'content': message} )\n",
    "        result = self.execute()\n",
    "        self.messages.append( {'role': 'assistant', 'content': result} )\n",
    "        return result\n",
    "    \n",
    "    def execute(self):\n",
    "        completion = client.chat.completions.create(\n",
    "            messages = self.messages,\n",
    "            model=\"llama-3.3-70b-versatile\",\n",
    "        )\n",
    "        return completion.choices[0].message.content"
   ]
  },
  {
   "cell_type": "code",
   "execution_count": 3,
   "metadata": {},
   "outputs": [],
   "source": [
    "system_prompt = \"\"\"\n",
    "You run in a loop of Thought, Action, PAUSE, Observation.\n",
    "At the end of the loop you output an Answer\n",
    "Use Thought to describe your thoughts about the question you have been asked.\n",
    "Use Action to run one of the actions available to you - then return PAUSE.\n",
    "Observation will be the result of running those actions.\n",
    "\n",
    "Your available actions are:\n",
    "\n",
    "calculate:\n",
    "e.g. calculate: 4 * 7 / 3\n",
    "Runs a calculation and returns the number - uses Python so be sure to use floating point syntax if necessary\n",
    "\n",
    "get_planet_mass:\n",
    "e.g. get_planet_mass: Earth\n",
    "returns weight of the planet in kg\n",
    "\n",
    "Example session:\n",
    "\n",
    "Question: What is the mass of Earth times 2?\n",
    "Thought: I need to find the mass of Earth\n",
    "Action: get_planet_mass: Earth\n",
    "PAUSE \n",
    "\n",
    "You will be called again with this:\n",
    "\n",
    "Observation: 5.972e24\n",
    "\n",
    "Thought: I need to multiply this by 2\n",
    "Action: calculate: 5.972e24 * 2\n",
    "PAUSE\n",
    "\n",
    "You will be called again with this: \n",
    "\n",
    "Observation: 1,1944×10e25\n",
    "\n",
    "If you have the answer, output it as the Answer.\n",
    "\n",
    "Answer: The mass of Earth times 2 is 1,1944×10e25.\n",
    "\n",
    "Now it's your turn:\n",
    "\"\"\".strip()\n",
    "\n",
    "# Tools\n",
    "def calculate(operation) -> float:\n",
    "    return eval(operation)\n",
    "\n",
    "def get_planet_mass(planet) -> float:\n",
    "    match planet.lower():\n",
    "        case \"mercury\":\n",
    "            return 3.285e23\n",
    "        case \"venus\":\n",
    "            return 4.867e24\n",
    "        case \"earth\":\n",
    "            return 5.972e24\n",
    "        case \"mars\":\n",
    "            return 6.39e23\n",
    "        case \"jupiter\":\n",
    "            return 1.898e27\n",
    "        case \"saturn\":\n",
    "            return 5.683e26\n",
    "        case \"uranus\":\n",
    "            return 8.681e25\n",
    "        case \"neptune\":\n",
    "            return 1.024e26\n",
    "        case _:\n",
    "            return 0.0"
   ]
  },
  {
   "cell_type": "code",
   "execution_count": null,
   "metadata": {},
   "outputs": [],
   "source": [
    "# Loop for the answer\n",
    "import re\n",
    "\n",
    "def loop (max_iterations = 3, query = ''):\n",
    "    agent = Agent(client=client, system=system_prompt)\n",
    "    tools = ['calculate', 'get_planet_mass']\n",
    "\n",
    "    next_prompt = query\n",
    "    i = 0\n",
    "    while i < max_iterations:\n",
    "        i += 1\n",
    "        result = agent(next_prompt)\n",
    "        print(f'{result}')\n",
    "\n",
    "        if \"PAUSE\" in result and \"Action\" in result:\n",
    "            action = re.findall( r\"Action: ([a-z_]+): (.+)\", result, re.IGNORECASE )\n",
    "            choosen_tool = action[0][0]\n",
    "            arg = action[0][1]\n",
    "        \n",
    "            if choosen_tool in tools:\n",
    "                result_tool = eval(f\"{choosen_tool}('{arg}')\")\n",
    "                next_prompt = f\"Observation: {result_tool}\"\n",
    "            else:\n",
    "                next_prompt = \"Observation: Tool not found\"\n",
    "            print(next_prompt)\n",
    "            continue\n",
    "        if \"Answer\" in result:\n",
    "            break"
   ]
  },
  {
   "cell_type": "code",
   "execution_count": 8,
   "metadata": {},
   "outputs": [
    {
     "name": "stdout",
     "output_type": "stream",
     "text": [
      "Thought: To find the mass of the Earth plus the mass of Mercury and then multiply the sum by 5, I first need to find the mass of the Earth and the mass of Mercury. \n",
      "\n",
      "Action: get_planet_mass: Earth\n",
      "PAUSE\n",
      "Observation: 5.972e+24\n",
      "Thought: I now have the mass of the Earth, which is 5.972e+24 kg. Next, I need to find the mass of Mercury.\n",
      "\n",
      "Action: get_planet_mass: Mercury\n",
      "PAUSE\n",
      "Observation: 3.285e+23\n",
      "Thought: I now have the masses of both the Earth (5.972e+24 kg) and Mercury (3.285e+23 kg). The next step is to add these two masses together and then multiply the sum by 5.\n",
      "\n",
      "Action: calculate: (5.972e+24 + 3.285e+23) * 5\n",
      "PAUSE\n",
      "Observation: 3.1502500000000004e+25\n",
      "Thought: I have now calculated the sum of the masses of the Earth and Mercury, and then multiplied this sum by 5, resulting in 3.1502500000000004e+25 kg. This is the final step in solving the problem.\n",
      "\n",
      "Answer: The mass of the Earth plus the mass of Mercury and all of it times 5 is 3.15025e+25 kg.\n"
     ]
    }
   ],
   "source": [
    "loop(max_iterations = 5, query=\"What is the mass of the earth plus the mass of the mercury and all of it times 5?\")"
   ]
  },
  {
   "cell_type": "markdown",
   "metadata": {},
   "source": [
    "## Let's just print the answer"
   ]
  },
  {
   "cell_type": "code",
   "execution_count": 19,
   "metadata": {},
   "outputs": [
    {
     "name": "stdout",
     "output_type": "stream",
     "text": [
      "The mass of the earth plus the mass of Mercury and all of it times 5 is 3.1011e25.\n"
     ]
    }
   ],
   "source": [
    "def output (max_iterations = 3, query = ''):\n",
    "    agent = Agent(client=client, system=system_prompt, )\n",
    "    tools = ['calculate', 'get_planet_mass']\n",
    "\n",
    "    next_prompt = query\n",
    "    i = 0\n",
    "    while i < max_iterations:\n",
    "        i += 1\n",
    "        result = agent(next_prompt)\n",
    "        # print(f'{result}')\n",
    "\n",
    "        if \"PAUSE\" in result and \"Action\" in result:\n",
    "            action = re.findall( r\"Action: ([a-z_]+): (.+)\", result, re.IGNORECASE )\n",
    "            choosen_tool = action[0][0]\n",
    "            arg = action[0][1]\n",
    "        \n",
    "            if choosen_tool in tools:\n",
    "                result_tool = eval(f\"{choosen_tool}('{arg}')\")\n",
    "                # next_prompt = f\"Observation: {result_tool}\"\n",
    "            else:\n",
    "                next_prompt = \"Observation: Tool not found\"\n",
    "            \n",
    "            # print(next_prompt)\n",
    "            continue\n",
    "        if \"Answer\" in result:\n",
    "            break\n",
    "    return result.split(\"Answer: \", 1)[-1]\n",
    "\n",
    "answer = output(max_iterations = 5, query=\"What is the mass of the earth plus the mass of the mercury and all of it times 5?\")\n",
    "print(answer)"
   ]
  },
  {
   "cell_type": "code",
   "execution_count": null,
   "metadata": {},
   "outputs": [],
   "source": [
    "#instead of eval, use this: ChatGPT due to security concerns.\n",
    "\"\"\"\n",
    "import ast\n",
    "import operator\n",
    "\n",
    "def safe_calculate(expression: str) -> float:\n",
    "    allowed_operators = {\n",
    "        ast.Add: operator.add,\n",
    "        ast.Sub: operator.sub,\n",
    "        ast.Mult: operator.mul,\n",
    "        ast.Div: operator.truediv,\n",
    "        ast.Pow: operator.pow,\n",
    "        ast.Mod: operator.mod,\n",
    "    }\n",
    "\n",
    "    def evaluate(node):\n",
    "        if isinstance(node, ast.BinOp):\n",
    "            left = evaluate(node.left)\n",
    "            right = evaluate(node.right)\n",
    "            if type(node.op) in allowed_operators:\n",
    "                return allowed_operators[type(node.op)](left, right)\n",
    "            else:\n",
    "                raise ValueError(\"Unsupported operation\")\n",
    "        elif isinstance(node, ast.Num):\n",
    "            return node.n\n",
    "        else:\n",
    "            raise ValueError(\"Invalid expression\")\n",
    "\n",
    "    try:\n",
    "        parsed_expr = ast.parse(expression, mode='eval')\n",
    "        return evaluate(parsed_expr.body)\n",
    "    except Exception:\n",
    "        raise ValueError(\"Invalid input\")\n",
    "\n",
    "# Example usage:\n",
    "print(safe_calculate(\"3 + 5 * 2\"))  # Output: 13\n",
    "\n",
    "\"\"\""
   ]
  }
 ],
 "metadata": {
  "kernelspec": {
   "display_name": "agent",
   "language": "python",
   "name": "python3"
  },
  "language_info": {
   "codemirror_mode": {
    "name": "ipython",
    "version": 3
   },
   "file_extension": ".py",
   "mimetype": "text/x-python",
   "name": "python",
   "nbconvert_exporter": "python",
   "pygments_lexer": "ipython3",
   "version": "3.11.11"
  }
 },
 "nbformat": 4,
 "nbformat_minor": 2
}
